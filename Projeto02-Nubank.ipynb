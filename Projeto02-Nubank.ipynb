{
 "cells": [
  {
   "cell_type": "markdown",
   "metadata": {},
   "source": [
    "# Projeto 2 - Classificador Automático de Sentimento\n",
    "\n",
    "Você foi contratado por uma empresa parar analisar como os clientes estão reagindo a um determinado produto no Twitter. A empresa deseja que você crie um programa que irá analisar as mensagens disponíveis e classificará como \"relevante\" ou \"irrelevante\". Com isso ela deseja que mensagens negativas, que denigrem o nome do produto, ou que mereçam destaque, disparem um foco de atenção da área de marketing.<br /><br />\n",
    "Como aluno de Ciência dos Dados, você lembrou do Teorema de Bayes, mais especificamente do Classificador Naive-Bayes, que é largamente utilizado em filtros anti-spam de e-mails. O classificador permite calcular qual a probabilidade de uma mensagem ser relevante dadas as palavras em seu conteúdo.<br /><br />\n",
    "Para realizar o MVP (*minimum viable product*) do projeto, você precisa implementar uma versão do classificador que \"aprende\" o que é relevante com uma base de treinamento e compara a performance dos resultados com uma base de testes.<br /><br />\n",
    "Após validado, o seu protótipo poderá também capturar e classificar automaticamente as mensagens da plataforma.\n",
    "\n",
    "## Informações do Projeto\n",
    "\n",
    "Prazo: 13/Set até às 23:59.<br />\n",
    "Grupo: 1 ou 2 pessoas.<br /><br />\n",
    "Entregáveis via GitHub: \n",
    "* Arquivo notebook com o código do classificador, seguindo as orientações abaixo.\n",
    "* Arquivo Excel com as bases de treinamento e teste totalmente classificado.\n",
    "\n",
    "**NÃO disponibilizar o arquivo com os *access keys/tokens* do Twitter.**\n",
    "\n",
    "\n",
    "### Check 3: \n",
    "\n",
    "Até o dia 06 de Setembro às 23:59, o notebook e o xlsx devem estar no Github com as seguintes evidências: \n",
    "    * Conta no twitter criada.\n",
    "    * Produto escolhido.\n",
    "    * Arquivo Excel contendo a base de treinamento e teste já classificado.\n",
    "\n",
    "Sugestão de leitura:<br />\n",
    "http://docs.tweepy.org/en/v3.5.0/index.html<br />\n",
    "https://monkeylearn.com/blog/practical-explanation-naive-bayes-classifier/"
   ]
  },
  {
   "cell_type": "markdown",
   "metadata": {},
   "source": [
    "___\n",
    "\n",
    "## Preparando o ambiente\n",
    "\n",
    "Instalando a biblioteca *tweepy* para realizar a conexão com o Twitter:"
   ]
  },
  {
   "cell_type": "code",
   "execution_count": 1,
   "metadata": {
    "collapsed": true
   },
   "outputs": [],
   "source": [
    "%%capture\n",
    "\n",
    "#Instalando o tweepy\n",
    "!pip install tweepy"
   ]
  },
  {
   "cell_type": "markdown",
   "metadata": {},
   "source": [
    "Importando as Bibliotecas que serão utilizadas. Esteja livre para adicionar outras."
   ]
  },
  {
   "cell_type": "code",
   "execution_count": 2,
   "metadata": {
    "collapsed": true
   },
   "outputs": [],
   "source": [
    "import tweepy\n",
    "import math\n",
    "import os.path\n",
    "import pandas as pd\n",
    "import json\n",
    "from random import shuffle"
   ]
  },
  {
   "cell_type": "markdown",
   "metadata": {},
   "source": [
    "___\n",
    "## Autenticando no  Twitter\n",
    "\n",
    "Para realizar a captura dos dados é necessário ter uma conta cadastrada no twitter:\n",
    "\n",
    "* Conta: ***@Cd2aProjeto***\n",
    "\n",
    "\n",
    "1. Caso ainda não tenha uma: https://twitter.com/signup\n",
    "1. Depois é necessário registrar um app para usar a biblioteca: https://apps.twitter.com/\n",
    "1. Dentro do registro do App, na aba Keys and Access Tokens, anotar os seguintes campos:\n",
    "    1. Consumer Key (API Key)\n",
    "    1. Consumer Secret (API Secret)\n",
    "1. Mais abaixo, gere um Token e anote também:\n",
    "    1. Access Token\n",
    "    1. Access Token Secret\n",
    "    \n",
    "1. Preencha os valores no arquivo \"auth.pass\"\n",
    "\n",
    "**ATENÇÃO**: Nunca divulgue os dados desse arquivo online (GitHub, etc). Ele contém as chaves necessárias para realizar as operações no twitter de forma automática e portanto é equivalente a ser \"hackeado\". De posse desses dados, pessoas mal intencionadas podem fazer todas as operações manuais (tweetar, seguir, bloquear/desbloquear, listar os seguidores, etc). Para efeito do projeto, esse arquivo não precisa ser entregue!!!"
   ]
  },
  {
   "cell_type": "code",
   "execution_count": null,
   "metadata": {
    "collapsed": true
   },
   "outputs": [],
   "source": [
    "#Dados de autenticação do twitter:\n",
    "\n",
    "#Coloque aqui o identificador da conta no twitter: @Cd2aProjeto\n",
    "\n",
    "#leitura do arquivo no formato JSON\n",
    "with open('auth.pass') as fp:    \n",
    "    data = json.load(fp)\n",
    "\n",
    "#Configurando a biblioteca. Não modificar\n",
    "auth = tweepy.OAuthHandler(data['consumer_key'], data['consumer_secret'])\n",
    "auth.set_access_token(data['access_token'], data['access_token_secret'])"
   ]
  },
  {
   "cell_type": "markdown",
   "metadata": {},
   "source": [
    "___\n",
    "## Coletando Dados\n",
    "\n",
    "Agora vamos coletar os dados. Tenha em mente que dependendo do produto escolhido, não haverá uma quantidade significativa de mensagens, ou ainda poder haver muitos retweets.<br /><br /> \n",
    "Configurando:"
   ]
  },
  {
   "cell_type": "code",
   "execution_count": null,
   "metadata": {
    "collapsed": true
   },
   "outputs": [],
   "source": [
    "#Produto escolhido:\n",
    "produto = 'nubank'\n",
    "\n",
    "#Quantidade mínima de mensagens capturadas:\n",
    "n = 500\n",
    "#Quantidade mínima de mensagens para a base de treinamento:\n",
    "t = 300\n",
    "\n",
    "#Filtro de língua, escolha uma na tabela ISO 639-1.\n",
    "lang = 'pt'"
   ]
  },
  {
   "cell_type": "markdown",
   "metadata": {},
   "source": [
    "Capturando os dados do twitter:"
   ]
  },
  {
   "cell_type": "code",
   "execution_count": null,
   "metadata": {
    "collapsed": true
   },
   "outputs": [],
   "source": [
    "#Cria um objeto para a captura\n",
    "api = tweepy.API(auth)\n",
    "\n",
    "#Inicia a captura, para mais detalhes: ver a documentação do tweepy\n",
    "i = 1\n",
    "msgs = []\n",
    "for msg in tweepy.Cursor(api.search, q=produto, lang=lang).items():    \n",
    "    msgs.append(msg.text.lower())\n",
    "    i += 1\n",
    "    if i > n:\n",
    "        break\n",
    "\n",
    "#Embaralhando as mensagens para reduzir um possível viés\n",
    "shuffle(msgs)"
   ]
  },
  {
   "cell_type": "markdown",
   "metadata": {},
   "source": [
    "Salvando os dados em uma planilha Excel:"
   ]
  },
  {
   "cell_type": "code",
   "execution_count": null,
   "metadata": {
    "collapsed": true
   },
   "outputs": [],
   "source": [
    "#Verifica se o arquivo não existe para não substituir um conjunto pronto\n",
    "if not os.path.isfile('./{0}.xlsx'.format(produto)):\n",
    "    \n",
    "    #Abre o arquivo para escrita\n",
    "    writer = pd.ExcelWriter('{0}.xlsx'.format(produto))\n",
    "\n",
    "    #divide o conjunto de mensagens em duas planilhas\n",
    "    dft = pd.DataFrame({'Treinamento' : pd.Series(msgs[:t])})\n",
    "    dft.to_excel(excel_writer = writer, sheet_name = 'Treinamento', index = False)\n",
    "\n",
    "    dfc = pd.DataFrame({'Teste' : pd.Series(msgs[t:])})\n",
    "    dfc.to_excel(excel_writer = writer, sheet_name = 'Teste', index = False)\n",
    "\n",
    "    #fecha o arquivo\n",
    "    writer.save()"
   ]
  },
  {
   "cell_type": "markdown",
   "metadata": {},
   "source": [
    "___\n",
    "## Classificando as Mensagens\n",
    "\n",
    "Agora você deve abrir o arquivo Excel com as mensagens capturadas e classificar na Coluna B se a mensagem é relevante ou não.<br /> \n",
    "Não se esqueça de colocar um nome para a coluna na célula **B1**.<br /><br />\n",
    "Fazer o mesmo na planilha de Controle.\n",
    "\n",
    "___\n",
    "## Montando o Classificador Naive-Bayes\n",
    "\n",
    "Com a base de treinamento montada, comece a desenvolver o classificador. Escreva o seu código abaixo:\n",
    "\n",
    "Opcionalmente: \n",
    "* Limpar as mensagens removendo os caracteres: enter, :, \", ', (, ), etc. Não remover emojis.<br />\n",
    "* Corrigir separação de espaços entre palavras e/ou emojis.\n",
    "* Propor outras limpezas/transformações que não afetem a qualidade da informação.\n",
    "\n"
   ]
  },
  {
   "cell_type": "code",
   "execution_count": 3,
   "metadata": {
    "collapsed": true
   },
   "outputs": [],
   "source": [
    "nubank = pd.read_excel('nubank.xlsx')\n",
    "tab_r = nubank.loc[nubank[\"Relevancia\"] == 'r']\n",
    "tab_i = nubank.loc[nubank[\"Relevancia\"] == 'ir']\n",
    "tab_r = tab_r[\"Treinamento\"]\n",
    "tab_i = tab_i[\"Treinamento\"]\n"
   ]
  },
  {
   "cell_type": "code",
   "execution_count": 15,
   "metadata": {},
   "outputs": [
    {
     "data": {
      "text/plain": [
       "['gdantas98 ta suave eu vo cria um desses e fali oceis td que tem nubank seus otario',\n",
       " 'gente eu tô amando a facilidade e praticidade do cartão nubank',\n",
       " 'nubank pode ficar com o cartão velho de vocês o meu itaú 20 crédito é zero httpstcozn8t0lyfr2',\n",
       " 'otraveler próxima fatura q eu pagar de mando um nubank primo',\n",
       " 'janiceluana vc pode pedir o convite se inscrevendo no httpstcovk3hvdposp  p saber mais da análise confere… httpstcoyvzwnvpngr',\n",
       " 'porque o nubank não me aprova? score serasa o que é isso? httpstcol2egut6rh3',\n",
       " 'meu cartão nubank foi aprovado porraaaaaaa',\n",
       " 'acho que eu quero uma indicação de nubank',\n",
       " 'muito entristecido por ter sido recusado no nubank',\n",
       " 'fui aceito pelo nubank aaaaaa httpstcoiker31yi6w',\n",
       " 'nubankbrasil eu não desisti de vocês vocês que desistiram de mim eu sou sensacional um mulherão desse muito t… httpstcognyrmwbesl',\n",
       " 'liguei no nubank pra resolver um negócio e que atendente maravilhosa mano amém nubank fui atendido em 2m',\n",
       " 'nubank não faça isso eu não tenho autocontrole httpstcoym8okuyid2',\n",
       " 'quero meu roxinho nubank',\n",
       " 'genteeeee o meu nubank foi aprovado uhullll uhuuulll httpstcoefhbrdj351',\n",
       " 'nubank com conta corrente? por favor',\n",
       " 'cartão de crédito nubank como fazer pedido  pela internet httpstco6sw5sus5v2',\n",
       " 'ngm consegue explicar o nubank ele é fantástico dms',\n",
       " 'nubank tem mais de 1 milhão de clientes e fecha 1º semestre com receita de r 236 milhões httpstcowhsuvs666a',\n",
       " 'o nubank ate pra te cobrar te cobra de um jeito fofo que cartão maravilhoso',\n",
       " 'theouztop vc e muito lindinho e fofo fufuca mas eu ja tenho nubank mas no sonho ganhava outros iaankakaka',\n",
       " 'mariewth nubank pra mim é igual crush nunca me nota',\n",
       " \"geral falando desse cartão nubank  vou fazer um só pra ver de koe a pesar de que tenho alguns aqui '\",\n",
       " 'leotomas emersonxbarbosa nubankbrasil nenhuma  me rejeita tanto quanto o nubank',\n",
       " 'rejeitado pelo nubank httpstcor4zydgrfid',\n",
       " 'tento nubank faz quase 1 ano se não for tudo isso e quero sinceramente que vá se foder porque desisto da msg não podemos liberar blabla',\n",
       " 'jmtrevisan steam brasileira? nubank ou neon funcionam de boa',\n",
       " 'amo meu nubank',\n",
       " 'rt 4breuv feia demais para o nubank',\n",
       " 'itau com bitcoin blockchain nubank e outros modelos vocês ainda não estão lutando contra esse passado burocrático e monótono ?',\n",
       " 'flaviovilaverde jmtrevisan sim compro no crédito nubank ou paypal tanto que nem sabia que ainda rolava esse atraso',\n",
       " 'haineafraid sorria você está no site da nubank httpstcoov1nliasus',\n",
       " 'aaaaaaaaaaa meu nubank chegou antes da minha viagem aaaaaaa te amo nubankbrasil 💜💜💜 daqui a pouco tem fotinha',\n",
       " 'nubankbrasil melhor coisa que eu fiz foi meu cartão nubank',\n",
       " 'fiz amizade com o entregador pq ele me pediu um convite d nubank ?',\n",
       " 'eu nem tenho motivo pra ter um nubank agr mas de tanto que falam que demora pra ser aprovado to pensando em pedir desde já',\n",
       " 'nubank querendo oferecer conta corrente agora se for oficializado eu dou adeus ao santander com muita vontade',\n",
       " 'não queria assinar o nubank rewards pq queria gastar menosminha fatura fechou caríssima 💸💸💸',\n",
       " 'acabei de passar o maior susto da minha vida com o cartão do nubank',\n",
       " 'alguém me envia convite da nubank',\n",
       " 'gabrlas nubank me recusou jjjjj fiquei bem troste',\n",
       " 'nubank aumentou o meu limite o suficiente pra eu conseguir fazer minha tattoo da majoras aaaaaaaaa que cartãozão da porra 😍😍😍',\n",
       " 'recebi convite pro nubank mas não tenho smartphone d',\n",
       " 'não sei o que seria da minha vida sem o nubank',\n",
       " 'na mesma hora chegou uma notif de transação aprovada de 20 e poucos reais no nubank de samantha concluímos que elas estavam no caixa',\n",
       " 'nubankbrasil nubank é tudo de bom não troco por nenhum outro',\n",
       " 'só quero ver se esse cartão nubank é vantagem mesmo',\n",
       " 'se alguém quiser nubank eu tenho  convites 3',\n",
       " 'trueshinken jmtrevisan pois é pago com o nubank e nem sabia que aida tinha esse negócio de atraso',\n",
       " 'xatiada que fui recusada no nubank ',\n",
       " 'alguém me manda convite do nubank',\n",
       " 'igorwiese playstationbr ja mano nem nubank foi tentei tres do itau um do santander e um amex absurdo me add la carlitosbr ',\n",
       " 'nubank marquei errado os lixos de verdade são o nubankbrasil',\n",
       " 'meu nome   veraluciabarbosadasilva   não consigo  entrar   com o código que ne foi enviado    pelo nubank   como devo proceder',\n",
       " 'quem quiser convite pra fazer o cartão nubank é só mandar o email',\n",
       " 'hishte queria tanto nubank ',\n",
       " 'olhei assim e nunos?? 😂😂estou oficialmente faceira pq chegou meu nubank 😍💗💗💗 sounu httpstco3vlwk50ggg httpstcom4vyqbzlcq',\n",
       " 'alguem me convida p nubank',\n",
       " 'carimeludovico faz o cadastro direto no httpstcomvhxsssvfe ou por indicação de alguém que já tenha o roxinho… httpstcozpaotqinyd',\n",
       " 'hmrlks manda um convite ae para facilitar fila do nubank é tensa =',\n",
       " 'adivinha quem teve o cartão nubank aprovado 😎💜',\n",
       " 'tnc nubank não preciso mais de você',\n",
       " 'alguém me envia um convite do nubank nunca pedi nada',\n",
       " 'até o nubank e o digio me rejeitam nessa vida',\n",
       " 'tô a um mês tentando negociar um cancelamento de uma compra com uma loja online vai lá nubank e consegue em 24h te amo nubank',\n",
       " 'usebrusinhas h3yitsdan mano cê tá falando sério? hahahahaha já tô com meu nubank na mão',\n",
       " 'alguém pra me enviar um convite do cartão nubank  🌝',\n",
       " 'alantominaga meu cartão do nubank chegou',\n",
       " 'rackor minha amiga já me falou do nubank e disse que é bem válido um dia quem sabe eu faço essemas no momento é escolha mesmo =d',\n",
       " 'galera tenho 10 convites pro cartão nubank quer quiser só dizer',\n",
       " 'depois de vários foras do nubank eu fui flertar com o digio aí o nubank resolveu investir num relacionamento sério… httpstcosujlutq4kx',\n",
       " 'boa noite só pra quem foi aceitx no nubank 💜 hahahahahahaha',\n",
       " 'rt soliotarior levei um fora do nubank estou super arrasado',\n",
       " 'aprovaram o nubank da minha mãe',\n",
       " 'capinandoumlote que ruim eu tô usando um cartão chamado nubank que é bem interessante e tem um serviço mais intel… httpstcodmyauz8wwv',\n",
       " 'eu só queria minha cnh meu cartão bradesco nubank e ticket alimentação 😔',\n",
       " 'nubank é o único banco que fica feliz com a falta de lucro líquido mas pelo menos é menos falta do que ano passado né',\n",
       " 'meu nubank aprovou',\n",
       " 'aumentei meu limite no nubank de novo kakakakakaak',\n",
       " 'meu projeto vai ser renovado e o cartão da nubank chegou hoje coincidência?? eu acho que não rs',\n",
       " 'meu cartão nubank só chega dia 29 uóoooo mas eu já imagino o estrago que vai ser em minha vida',\n",
       " 'alguém ai interessado numa indicação pro nubank?',\n",
       " 'ahrinchan amém nubank',\n",
       " 'nubank eu gostaria de saber pq vc me odeia meu nome é limpo não devo ninguém pago direitinho minhas coisa e vcs nunca me aceitam',\n",
       " 'eu olho a fatura do nubank e já várias lágrimas',\n",
       " 'meu cartão da nubank chegou &lt3',\n",
       " 'perder um grande amor é difícil mas já tentaram pedir pra aumentar o limite do seu cartão do nubank???',\n",
       " 'paguei meu nubank ontem e eles já reconheceram o pagamento hoje sendo que nem eh dia útil httpstcoyyetxd1iqs',\n",
       " 'suilaneoliveira em uns 12 meses eu devo conseguir um trecho de graça pelo nubank rewards',\n",
       " 'fiz o pedido para o nubank e eu espero que eles olhem com carinho para o meu pedido',\n",
       " 'deitado em posição fetal pois o nubank não me quer como cliente',\n",
       " 'theunprettytom e ver o tanto de notificação do nubank',\n",
       " 'nubankbrasil melhor cartão do mundo ❤️obrigada nubanksounu',\n",
       " 'mrcldeus isadoraslvr comecei a parcelar tb amém nubank e seus juros baixissimos',\n",
       " 'nubankbrasil meupagmelhor que nubank',\n",
       " 'desisti do nubank solicitei um digio e um pag se nenhum desses dois me aceitar eu desisto da vida',\n",
       " 'o nubank aumentou meu limite eu nem tô acreditando 😭😭😭😭',\n",
       " 'tenho convite pro nubank troco por convites pro tim beta',\n",
       " 'varnion meu paguei a fatura ontem e liberaram os créditos hj achei que só voltaria segunda eu amo esse nubank 💜💜💜💜💜',\n",
       " 'nem o nubank me quer bicho que morte horrível httpstcoqtlxjiwzwp',\n",
       " 'sonhei que chegava um cartao digio e outro nubank pra mim',\n",
       " 'juanfflorencio você ainda tem convites do nubank?',\n",
       " 'quando eu leio flash sale disponível o nubank se mexe todo na carteira',\n",
       " 'oxywiii te empresto meu nubank',\n",
       " 'sempre quis um nubank so pra interagir com o twitter deles eles são demais 😂😂😂',\n",
       " 'eu queria saber por que está assim  nubank vou no app clico pra ver o rastreio dá erro no site e quando eu vou… httpstcowyxlv7jhhn',\n",
       " 'abri um chat no nubank pra tirar uma dúvida eles me responderam mas o app nao te notifica disso aí encerraram o chat pq eu tava off',\n",
       " 'fiz o requisito fui aceito no nubank adeus juros abusivos de banco httpstco4tmbbyyc11',\n",
       " 'mano kk nubank é o melhor cartão deve ser a empresa mais livre a foto do atendente no email aparentemente ta sem camisa super despojado',\n",
       " 'carai nunca vi grupo com tanta gente escrota qto esse grupo do nubank no fb',\n",
       " 'em menos d 3 dias fiz o cadastro no site do nubank enviei a documentação e recebi resposta na primeira tentativaa… httpstcop9csohlcfh',\n",
       " 'meu cartao nubank vai chegar na hora certa pra eu comprar o álbum da camila',\n",
       " 'alguém aqui possui o cartão da nubank?',\n",
       " 'jmtrevisan nubank é vida',\n",
       " 'thepiratebei então eu peguei o nubank pq se eu não gasto eu não pago',\n",
       " 'oi gente alguém me envia um convite nubank pelo amor de deus ❤',\n",
       " 'rt luizborba nubank ama os engenheiros httpstcod9ynycwohw',\n",
       " 'breathtospeak hmmm agora vc tem nubank?',\n",
       " 'tuinta oi vc quer convite do nubank?',\n",
       " 'fogaca16 qnd tu aceitar cartão eu pago só trabalho c nubank agora',\n",
       " 'ar desisto do nubank sempre me rejeita vou fazer um no panamericano mesmo',\n",
       " 'palestra fodastica do cara do nubank no mercadolivreexperience httpstcorkjju079fq',\n",
       " 'tem horas que eu olho meus gastos no app do nubank e tento achar um sentido na vida',\n",
       " 'sera q esse programa de pontos da nubank vale a pena 🤔',\n",
       " 'ficarei hospedado num quarto pelo airbnb q foi comprado com um nubank e agr estou pedindo comida pelo ifoodfinalmente uma 21st century girl',\n",
       " 'nubank me aprova nunca te pedi nada',\n",
       " 'gente tenho 9 indicações pro cartão nubank quem quiser vem de zap mande o email',\n",
       " 'tô tão triste só queria um código do nubank',\n",
       " 'não sei se me dói mais a cabeça ou a fatura do nubank']"
      ]
     },
     "execution_count": 15,
     "metadata": {},
     "output_type": "execute_result"
    }
   ],
   "source": [
    "def carac_rmv(com_carac, caracter):\n",
    "    sem_carac = com_carac\n",
    "    for i in caracter:\n",
    "        sem_carac = sem_carac.replace(i, '')\n",
    "    return sem_carac\n",
    "\n",
    "tweet_limpo_r = []\n",
    "tweet_limpo_i = []\n",
    "c = [':','$',',','\"','@','#','!',')','(','...','..','\\n','_',';','//','-','[',']']\n",
    "\n",
    "for tweet in tab_r:\n",
    "    for i in c:\n",
    "        tweet = carac_rmv(tweet, i)\n",
    "    tweet_limpo_r.append(tweet)\n",
    "\n",
    "for tweet in tab_i:\n",
    "    for i in c:\n",
    "        tweet = carac_rmv(tweet, i)\n",
    "    tweet_limpo_i.append(tweet)\n",
    "\n",
    "for tweet in tweet_limpo_r:\n",
    "    for palavra in tweet:\n",
    "        "
   ]
  },
  {
   "cell_type": "code",
   "execution_count": 70,
   "metadata": {},
   "outputs": [],
   "source": [
    "tweet_r = []\n",
    "tweet_i = []\n",
    "tr_naorep = []\n",
    "tweetcount = {}\n",
    "tweetprobs_r = {}\n",
    "tweetprobs_i = {}\n",
    "twt = {}\n",
    "\n",
    "#Numero das tabelas\n",
    "nr = len(tweet_limpo_r)\n",
    "ni = len(tweet_limpo_i)\n",
    "nt = nr + ni\n",
    "\n",
    "#Probabilidades\n",
    "pr = nr/nt\n",
    "pi = ni/nt\n",
    "\n",
    "\n",
    "for tweet in tweet_limpo_r:\n",
    "    tweet_split = tweet.split()\n",
    "    for tw in tweet_split:\n",
    "        if tw not in tweetcount:\n",
    "            tweetcount[tw] = 1\n",
    "        if tw not in tr_naorep:\n",
    "            tr_naorep.append(tw)\n",
    "        else:\n",
    "            tweetcount[tw] += 1\n",
    "        tweetprobs_r[tw] = round(((tweetcount[tw]+1)/(len(tweet_split)+len(tr_naorep))),5)\n",
    "\n",
    "    tweet_r.append(tweet) \n",
    "    \n",
    "    \n",
    "\n",
    "for tweet in tweet_limpo_i:\n",
    "    tweet_split = tweet.split()\n",
    "    for tw in tweet_split:\n",
    "        if tw not in tweetcount:\n",
    "            tweetcount[tw] = 1\n",
    "        else:\n",
    "            tweetcount[tw] += 1\n",
    "        tweetprobs_i[tw] = round((tweetcount[tw]+1/len(tweet_split)),5)\n",
    "    tweet_i.append(tweet) \n",
    "\n"
   ]
  },
  {
   "cell_type": "code",
   "execution_count": 71,
   "metadata": {},
   "outputs": [
    {
     "name": "stdout",
     "output_type": "stream",
     "text": [
      "2.1279509309520677e-16\n"
     ]
    }
   ],
   "source": [
    "def calculaProb(dicioProb, lista):\n",
    "    v= []\n",
    "    lista = lista.split()\n",
    "    for palavra in lista:\n",
    "        if palavra in dicioProb.keys():\n",
    "            v.append(dicioProb[palavra])\n",
    "    return v\n",
    "\n",
    "l = calculaProb(tweetprobs_r, tweet_r[1])\n",
    "prob = 1\n",
    "for i in l:\n",
    "    prob = prob*i\n",
    "print(prob)"
   ]
  },
  {
   "cell_type": "markdown",
   "metadata": {},
   "source": [
    "___\n",
    "## Verificando a performance\n",
    "\n",
    "Agora você deve testar o seu Classificador com a base de Testes.<br /><br /> \n",
    "\n",
    "Você deve extrair as seguintes medidas:\n",
    "* Porcentagem de positivos falsos (marcados como relevante mas não são relevantes)\n",
    "* Porcentagem de positivos verdadeiros (marcado como relevante e são relevantes)\n",
    "* Porcentagem de negativos verdadeiros (marcado como não relevante e não são relevantes)\n",
    "* Porcentagem de negativos falsos (marcado como não relevante e são relevantes)\n",
    "\n",
    "Opcionalmente:\n",
    "* Criar categorias intermediárias de relevância baseado na diferença de probabilidades. Exemplo: muito relevante, relevante, neutro, irrelevante e muito irrelevante."
   ]
  },
  {
   "cell_type": "code",
   "execution_count": null,
   "metadata": {
    "collapsed": true,
    "scrolled": true
   },
   "outputs": [],
   "source": []
  },
  {
   "cell_type": "markdown",
   "metadata": {
    "collapsed": true
   },
   "source": [
    "___\n",
    "## Concluindo\n",
    "\n",
    "Escreva aqui a sua conclusão.<br /> \n",
    "Faça um comparativo qualitativo sobre as medidas obtidas.<br />\n",
    "Explique como são tratadas as mensagens com dupla negação e sarcasmo.<br />\n",
    "Proponha um plano de expansão. Por que eles devem continuar financiando o seu projeto?<br />\n",
    "\n",
    "Opcionalmente: \n",
    "* Discorrer por que não posso alimentar minha base de Treinamento automaticamente usando o próprio classificador, aplicado a novos tweets.\n",
    "* Propor diferentes cenários de uso para o classificador Naive-Bayes. Cenários sem intersecção com este projeto.\n",
    "* Sugerir e explicar melhorias reais no classificador com indicações concretas de como implementar (não é preciso codificar, mas indicar como fazer e material de pesquisa sobre o assunto).\n"
   ]
  },
  {
   "cell_type": "code",
   "execution_count": null,
   "metadata": {
    "collapsed": true
   },
   "outputs": [],
   "source": []
  }
 ],
 "metadata": {
  "kernelspec": {
   "display_name": "Python 3",
   "language": "python",
   "name": "python3"
  },
  "language_info": {
   "codemirror_mode": {
    "name": "ipython",
    "version": 3
   },
   "file_extension": ".py",
   "mimetype": "text/x-python",
   "name": "python",
   "nbconvert_exporter": "python",
   "pygments_lexer": "ipython3",
   "version": "3.6.1"
  }
 },
 "nbformat": 4,
 "nbformat_minor": 1
}
